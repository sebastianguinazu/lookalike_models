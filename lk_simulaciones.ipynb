{
 "cells": [
  {
   "cell_type": "code",
   "execution_count": 1,
   "metadata": {},
   "outputs": [],
   "source": [
    "import numpy as np\n",
    "import pandas as pd\n",
    "import seaborn as sns\n",
    "import matplotlib.pyplot as plt\n",
    "import time, datetime\n",
    "\n",
    "import lkmodels as lkm\n",
    "import lkhelpers as lkh"
   ]
  },
  {
   "cell_type": "markdown",
   "metadata": {},
   "source": [
    "### Funciones"
   ]
  },
  {
   "cell_type": "code",
   "execution_count": 2,
   "metadata": {},
   "outputs": [],
   "source": [
    "# modelos para probar\n",
    "models = {\n",
    "# distance models\n",
    "    'centroide' : lambda s,p: lkm.scores_centroide(s,p,robust=False)\n",
    "    ,'centroide_robust': lambda s,p: lkm.scores_centroide(s,p,robust=True)\n",
    "    ,'distancias': lambda s,p: lkm.scores_distancias(s,p,robust=False)\n",
    "    ,'distancias_robust': lambda s,p: lkm.scores_distancias(s,p,robust=True)\n",
    "# class models\n",
    "    ,'logistic': lambda s,p: lkm.scores_clf(s,p,random_state=rng, clf='logistic', penalty='l2')\n",
    "    ,'tree': lambda s,p: lkm.scores_clf(s,p,random_state=rng, clf='tree', min_samples_leaf=0.01)\n",
    "    ,'rf': lambda s,p: lkm.scores_clf(s,p,random_state=rng, clf='rf', min_samples_leaf=100,\n",
    "                                     n_estimators=200, max_features='sqrt')\n",
    "# bagged models        \n",
    "    ,'bagged50_logistic': lambda s,p: lkm.scores_bagged_clf(s,p,random_state=rng, clf='logistic' \n",
    "                                                           ,T=50,penalty='none')\n",
    "    ,'bagged50_tree': lambda s,p: lkm.scores_bagged_clf(s,p,random_state=rng, clf='tree' \n",
    "                                                           ,T=50, min_samples_leaf=0.01)\n",
    "    ,'bagged50_tree_flex': lambda s,p: lkm.scores_bagged_clf(s,p,random_state=rng, clf='tree' \n",
    "                                                           ,T=50, min_samples_leaf=1)\n",
    "}"
   ]
  },
  {
   "cell_type": "code",
   "execution_count": 3,
   "metadata": {},
   "outputs": [
    {
     "data": {
      "text/plain": [
       "dict_items([('centroide', <function <lambda> at 0x1C931A90>), ('centroide_robust', <function <lambda> at 0x1C931898>), ('distancias', <function <lambda> at 0x1C931B20>), ('distancias_robust', <function <lambda> at 0x1C931D60>), ('logistic', <function <lambda> at 0x1C931970>), ('tree', <function <lambda> at 0x1C931A48>), ('rf', <function <lambda> at 0x1C931BB0>), ('bagged50_logistic', <function <lambda> at 0x1C931BF8>), ('bagged50_tree', <function <lambda> at 0x1C931C40>), ('bagged50_tree_flex', <function <lambda> at 0x1C931D18>)])"
      ]
     },
     "execution_count": 3,
     "metadata": {},
     "output_type": "execute_result"
    }
   ],
   "source": [
    "models.items()"
   ]
  },
  {
   "cell_type": "code",
   "execution_count": 10,
   "metadata": {},
   "outputs": [],
   "source": [
    "# resultados de cada modelo en un dataset dado\n",
    "def lk_report(X, y, idx_hidden, models_dict):\n",
    "    X_seed = X[y == 1,:]\n",
    "    X_poblacion = X[y == 0,:]\n",
    "    metrics = dict()\n",
    "    times = dict()\n",
    "    for k,f in models.items():\n",
    "        t0 = time.time()\n",
    "        scores = f(X_seed, X_poblacion)\n",
    "        metrics[k] = lkh.avg_precision(y, idx_hidden, scores) * 100\n",
    "        times[k] = (time.time() - t0) / 60\n",
    "    df = pd.DataFrame({'precision': metrics, 'time': times})\n",
    "    return df"
   ]
  },
  {
   "cell_type": "markdown",
   "metadata": {},
   "source": [
    "### Simulación"
   ]
  },
  {
   "cell_type": "code",
   "execution_count": 14,
   "metadata": {},
   "outputs": [],
   "source": [
    "rng = np.random.RandomState(999)\n",
    "datasets = dict()\n",
    "\n",
    "datasets['baseline'] = lkh.make_dataset(rng, n_samples=10000, n_features=20, weights=[0.90, 0.10]\n",
    "                                       ,n_informative=15, n_redundant=5, n_repeated=0)\n",
    "datasets['low_dim'] = lkh.make_dataset(rng, n_samples=10000, n_features=5, weights=[0.90, 0.10]\n",
    "                                       ,n_informative=5, n_redundant=0, n_repeated=0)\n",
    "datasets['high_dim'] = lkh.make_dataset(rng, n_samples=10000, n_features=200, weights=[0.90, 0.10]\n",
    "                                       ,n_informative=15, n_redundant=0, n_repeated=0)\n",
    "datasets['contaminated'] = lkh.make_dataset(rng, n_samples=10000, n_features=20, weights=[0.90, 0.10]\n",
    "                                       ,n_informative=15, n_redundant=5, n_repeated=0, flip_y=0.2)\n",
    "datasets['no_sep'] = lkh.make_dataset(rng, n_samples=10000, n_features=20, weights=[0.90, 0.10]\n",
    "                                       ,n_informative=15, n_redundant=5, n_repeated=0, class_sep=0.5)\n",
    "datasets['clusters'] = lkh.make_dataset(rng, n_samples=10000, n_features=20, weights=[0.90, 0.10]\n",
    "                                       ,n_informative=15, n_redundant=5, n_repeated=0, n_clusters_per_class=4)"
   ]
  },
  {
   "cell_type": "code",
   "execution_count": 15,
   "metadata": {},
   "outputs": [
    {
     "name": "stdout",
     "output_type": "stream",
     "text": [
      "2020-09-30 21:16:18.607163: baseline DONE ---\n",
      "2020-09-30 21:16:29.533863: low_dim DONE ---\n",
      "2020-09-30 21:18:26.141846: high_dim DONE ---\n",
      "2020-09-30 21:18:52.642682: contaminated DONE ---\n",
      "2020-09-30 21:19:14.497932: no_sep DONE ---\n",
      "2020-09-30 21:19:34.646693: clusters DONE ---\n"
     ]
    }
   ],
   "source": [
    "rdos = dict()\n",
    "for k,v in datasets.items():\n",
    "    rdos[k] = lk_report(v[0], v[1], v[2], models)\n",
    "    print(f'{datetime.datetime.now()}: {k} DONE ---')"
   ]
  },
  {
   "cell_type": "code",
   "execution_count": 12,
   "metadata": {},
   "outputs": [
    {
     "data": {
      "text/plain": [
       "dict_items([('baseline',                     precision      time\n",
       "centroide           17.511365  0.000088\n",
       "centroide_robust    15.576279  0.000128\n",
       "distancias          13.148293  0.000105\n",
       "distancias_robust   12.903224  0.000167\n",
       "logistic             5.157057  0.000939\n",
       "tree                 5.867907  0.000574\n",
       "rf                   4.955623  0.019218\n",
       "bagged50_logistic   56.625517  0.018805\n",
       "bagged50_tree       54.997450  0.003557\n",
       "bagged50_tree_flex  48.468046  0.003592), ('low_dim',                     precision      time\n",
       "centroide           12.038752  0.000000\n",
       "centroide_robust    10.233009  0.000136\n",
       "distancias          11.505963  0.000000\n",
       "distancias_robust   11.712836  0.000213\n",
       "logistic             4.760274  0.000206\n",
       "tree                 5.511950  0.000169\n",
       "rf                   4.777883  0.017489\n",
       "bagged50_logistic   67.312670  0.007841\n",
       "bagged50_tree       66.184543  0.002004\n",
       "bagged50_tree_flex  61.295730  0.001941), ('high_dim',                     precision      time\n",
       "centroide           10.626865  0.000036\n",
       "centroide_robust    11.178685  0.000934\n",
       "distancias           9.518593  0.000648\n",
       "distancias_robust    9.683515  0.001196\n",
       "logistic             5.128562  0.003081\n",
       "tree                 6.944642  0.008487\n",
       "rf                   6.161497  0.029863\n",
       "bagged50_logistic   28.396653  0.031053\n",
       "bagged50_tree       29.372897  0.022038\n",
       "bagged50_tree_flex  25.719813  0.021791), ('contaminated',                     precision      time\n",
       "centroide           12.184212  0.000034\n",
       "centroide_robust    11.406609  0.000134\n",
       "distancias           9.706696  0.000187\n",
       "distancias_robust    9.843393  0.000185\n",
       "logistic             9.467025  0.001082\n",
       "tree                 9.256742  0.000540\n",
       "rf                  10.563162  0.019027\n",
       "bagged50_logistic   37.363886  0.016468\n",
       "bagged50_tree       34.506438  0.004886\n",
       "bagged50_tree_flex  35.963037  0.004994), ('no_sep',                     precision      time\n",
       "centroide           12.956117  0.000132\n",
       "centroide_robust    11.889769  0.000133\n",
       "distancias          12.107582  0.000000\n",
       "distancias_robust   12.179568  0.000267\n",
       "logistic             4.840055  0.001287\n",
       "tree                 5.050563  0.000626\n",
       "rf                   4.345920  0.019691\n",
       "bagged50_logistic   34.487451  0.017329\n",
       "bagged50_tree       42.317714  0.003211\n",
       "bagged50_tree_flex  50.243746  0.003193), ('clusters',                     precision      time\n",
       "centroide            7.510358  0.000168\n",
       "centroide_robust     8.123099  0.000134\n",
       "distancias           7.788198  0.000047\n",
       "distancias_robust    7.802814  0.000291\n",
       "logistic             5.283648  0.000678\n",
       "tree                 6.293296  0.000839\n",
       "rf                   5.505962  0.018535\n",
       "bagged50_logistic   21.098633  0.013400\n",
       "bagged50_tree       30.883884  0.003495\n",
       "bagged50_tree_flex  28.317754  0.003682)])"
      ]
     },
     "execution_count": 12,
     "metadata": {},
     "output_type": "execute_result"
    }
   ],
   "source": [
    "rdos.items()"
   ]
  },
  {
   "cell_type": "code",
   "execution_count": 13,
   "metadata": {},
   "outputs": [
    {
     "data": {
      "image/png": "[encoded data removed]",
      "text/plain": [
       "<Figure size 2160x288 with 6 Axes>"
      ]
     },
     "metadata": {
      "needs_background": "light"
     },
     "output_type": "display_data"
    }
   ],
   "source": [
    "# plot metrics\n",
    "f, axs = plt.subplots(figsize=(30,4), nrows=1, ncols=len(rdos.keys()))\n",
    "max_precision = pd.concat(rdos)['precision'].max()\n",
    "i = 0\n",
    "for name, df in rdos.items():\n",
    "    sns.barplot(x=df.index, y=df['precision'], ax=axs[i])\n",
    "    axs[i].set_title(name)\n",
    "    axs[i].set_ylim(0, max_precision)\n",
    "    axs[i].set_xticklabels(axs[i].get_xticklabels(), rotation=90)\n",
    "    i += 1"
   ]
  }
 ],
 "metadata": {
  "kernelspec": {
   "display_name": "Python 3",
   "language": "python",
   "name": "python3"
  },
  "language_info": {
   "codemirror_mode": {
    "name": "ipython",
    "version": 3
   },
   "file_extension": ".py",
   "mimetype": "text/x-python",
   "name": "python",
   "nbconvert_exporter": "python",
   "pygments_lexer": "ipython3",
   "version": "3.8.2"
  }
 },
 "nbformat": 4,
 "nbformat_minor": 4
}
