{
 "cells": [
  {
   "cell_type": "markdown",
   "metadata": {},
   "source": [
    "### Objetivo\n",
    "\n",
    "Probar que el modelo permite identifiar sujetos cercanos a la semilla -- es decir, les asigna un score de lookalike alto\n",
    "\n",
    "El procedimiento consiste en:\n",
    "- Ocultar un proporción `PERC_TO_HIDE` de la semilla: estos van a ser parte de la población durante el entrenamiento, por lo cual tendrán 0 en el target\n",
    "- Ejecutar el algoritmo de bagging que scorea a todos los sujetos de la población (incluyendo los ocultos)\n",
    "- Evaluar la posición de los sujetos ocultos en la distribución del score. Esto se puede hacer visualmente o con estadísticos del estilo KS, AUROC, Average Precision, etc."
   ]
  },
  {
   "cell_type": "code",
   "execution_count": null,
   "metadata": {},
   "outputs": [],
   "source": [
    "ID_COLS = ['rut']\n",
    "SEMILLA = 999\n",
    "PERCT_TO_HIDE = 0.5 # proporcion de seed to hide\n",
    "BAG_ITER = 100 # iteraciones de bagging"
   ]
  },
  {
   "cell_type": "code",
   "execution_count": null,
   "metadata": {},
   "outputs": [],
   "source": [
    "import sys\n",
    "# from ... import bagged_clf "
   ]
  },
  {
   "cell_type": "code",
   "execution_count": null,
   "metadata": {},
   "outputs": [],
   "source": [
    "import numpy as np\n",
    "import pandas as pd\n",
    "\n",
    "from sklearn.tree import train_test_split\n",
    "from sklearn.tree import DecisionTreeClassifier\n",
    "import matplotlib.pyplot as plt\n",
    "import seaborn as sns\n",
    "\n",
    "# from ... import bagged_clf "
   ]
  },
  {
   "cell_type": "markdown",
   "metadata": {},
   "source": [
    "### Data"
   ]
  },
  {
   "cell_type": "code",
   "execution_count": null,
   "metadata": {},
   "outputs": [],
   "source": [
    "# read     \n",
    "X_seed = pd.read_pickle(\"data/X_seed.pkl\")\n",
    "X_poblacion = read_pickle(\"data/X_poblacion.pkl\")\n",
    "\n",
    "# drop IDS\n",
    "X_seed = X_seed.drop(ID_COLS, axis=1)\n",
    "X_poblacion = X_poblacion.drop(ID_COLS, axis=1)"
   ]
  },
  {
   "cell_type": "markdown",
   "metadata": {},
   "source": [
    "### Simulación\n",
    "\n",
    "Escondemos los sujetos de la semilla"
   ]
  },
  {
   "cell_type": "code",
   "execution_count": null,
   "metadata": {},
   "outputs": [],
   "source": [
    "# split seed-hidden\n",
    "np.random.seed(SEMILLA)\n",
    "X_seed_sim, X_hidden = train_test_split(X_seed, test_size=PERC_TO_HIDE)\n",
    "# poblacion\n",
    "X_poblacion_sim = pd.concat([X_poblacion, X_hidden], ignore_index=True)\n",
    "# indicador de hidden\n",
    "flag_hidden = np.full(X_poblacion_sim.shape[0], 1)\n",
    "flag_hidden[:X_poblacion.shape[0]] = 0"
   ]
  },
  {
   "cell_type": "markdown",
   "metadata": {},
   "source": [
    "Definimos un clasificador base y corremos el algoritmo de baggin"
   ]
  },
  {
   "cell_type": "code",
   "execution_count": null,
   "metadata": {},
   "outputs": [],
   "source": [
    "### Base Classifier\n",
    "clf = DecisionTreeClassifier\n",
    "clf_param = {'min_sample_leaf':1, 'random_state': SEMILLA}"
   ]
  },
  {
   "cell_type": "code",
   "execution_count": null,
   "metadata": {},
   "outputs": [],
   "source": [
    "### Lookalike Scores\n",
    "scores_sim, _ = bagged_clff(\n",
    "    X_seed_sim, X_poblacion_sim, Classifier=clf,\n",
    "    random_state=SEMILLA, T=BAG_ITER,\n",
    "    **clf_param)"
   ]
  },
  {
   "cell_type": "markdown",
   "metadata": {},
   "source": [
    "### Resultados\n",
    "\n",
    "Visualizamos la distribucion del score en los *Hidden* y en el resto de la población"
   ]
  },
  {
   "cell_type": "code",
   "execution_count": null,
   "metadata": {},
   "outputs": [],
   "source": [
    "sns.distplot(scores_sim[flag_hidden==0]), color='red', label='Resto') \n",
    "sns.distplot(scores_sim[flag_hidden==1]), color='skyblue', label='Hidden') \n",
    "plt.title('Distribucion del score')\n",
    "plt.legend()"
   ]
  },
  {
   "cell_type": "code",
   "execution_count": null,
   "metadata": {},
   "outputs": [],
   "source": [
    "sns.distplot(scores_sim[(flag_hidden==0) & (scores_sim>0)]), color='red', label='Resto') \n",
    "sns.distplot(scores_sim[(flag_hidden==0) & (scores_sim>0)]), color='skyblue', label='Hidden') \n",
    "plt.title('Distribucion del score')\n",
    "plt.legend("
   ]
  }
 ],
 "metadata": {
  "kernelspec": {
   "display_name": "Python 3",
   "language": "python",
   "name": "python3"
  },
  "language_info": {
   "codemirror_mode": {
    "name": "ipython",
    "version": 3
   },
   "file_extension": ".py",
   "mimetype": "text/x-python",
   "name": "python",
   "nbconvert_exporter": "python",
   "pygments_lexer": "ipython3",
   "version": "3.8.2"
  }
 },
 "nbformat": 4,
 "nbformat_minor": 4
}
