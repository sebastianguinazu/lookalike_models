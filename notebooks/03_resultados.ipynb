{
 "cells": [
  {
   "cell_type": "code",
   "execution_count": null,
   "metadata": {},
   "outputs": [],
   "source": [
    "ID_COLS = ['rut']"
   ]
  },
  {
   "cell_type": "code",
   "execution_count": null,
   "metadata": {},
   "outputs": [],
   "source": [
    "import numpy as np\n",
    "import pandas as pd\n",
    "\n",
    "import matplotlib.pyplot as plt\n",
    "import seaborn as sns"
   ]
  },
  {
   "cell_type": "markdown",
   "metadata": {},
   "source": [
    "### Data"
   ]
  },
  {
   "cell_type": "code",
   "execution_count": null,
   "metadata": {},
   "outputs": [],
   "source": [
    "# read     \n",
    "X_seed = pd.read_pickle(\"data/X_seed.pkl\")\n",
    "X_poblacion = read_pickle(\"data/X_poblacion.pkl\")\n",
    "# scores\n",
    "df_scores = pd.read_csv('data/df_scores.csv')\n",
    "# feat importance\n",
    "df_importance = pd.read_csv('data/df_importance.csv')"
   ]
  },
  {
   "cell_type": "markdown",
   "metadata": {},
   "source": [
    "### Feature importance"
   ]
  },
  {
   "cell_type": "code",
   "execution_count": null,
   "metadata": {},
   "outputs": [],
   "source": [
    "df_importance.head(10)"
   ]
  },
  {
   "cell_type": "markdown",
   "metadata": {},
   "source": [
    "### Distribución del score\n",
    "\n",
    "Analizamos la distribución del score en la población"
   ]
  },
  {
   "cell_type": "code",
   "execution_count": null,
   "metadata": {},
   "outputs": [],
   "source": [
    "scores = df_scores['score']"
   ]
  },
  {
   "cell_type": "code",
   "execution_count": null,
   "metadata": {},
   "outputs": [],
   "source": [
    "scores.describe()"
   ]
  },
  {
   "cell_type": "code",
   "execution_count": null,
   "metadata": {},
   "outputs": [],
   "source": [
    "scores.value_counts(bin=10, sort=False)"
   ]
  },
  {
   "cell_type": "code",
   "execution_count": null,
   "metadata": {},
   "outputs": [],
   "source": [
    "scores.value_counts(bin=10, sort=False, normalize=True)"
   ]
  },
  {
   "cell_type": "code",
   "execution_count": null,
   "metadata": {},
   "outputs": [],
   "source": [
    "sns.distplot(scores)"
   ]
  },
  {
   "cell_type": "code",
   "execution_count": null,
   "metadata": {},
   "outputs": [],
   "source": [
    "kwargs = {'cumulative': True}\n",
    "sns.distplot(scores, hist_kws=kwargs, kde_kws=kwargs)"
   ]
  },
  {
   "cell_type": "markdown",
   "metadata": {},
   "source": [
    "### Cantidad de clones según el score\n",
    "\n",
    "Visualizamos cuántos clones obtendríamos para cada posible punto de corte del score (*score umbral*)"
   ]
  },
  {
   "cell_type": "code",
   "execution_count": null,
   "metadata": {},
   "outputs": [],
   "source": [
    "def plot_score_clones(df_scores):\n",
    "    \"\"\"\n",
    "    plot cantidad de clones segun umbral de score\n",
    "    \"\"\"\n",
    "    df_plt = df_scores.sort_values('score', ascending=True)\n",
    "    df_plt['clones'] = np.arange(1, df_scores.shape[0]+1)\n",
    "    df_plt = df_plt.groupby('score').tail(1)\n",
    "    ax = sns.lineplot(data=df_plt, x='score', y='clones', ci=None)\n",
    "    plt.title('Clones segun umbral de score')\n",
    "    return ax"
   ]
  },
  {
   "cell_type": "code",
   "execution_count": null,
   "metadata": {},
   "outputs": [],
   "source": [
    "plot_score_clones(df_scores)"
   ]
  },
  {
   "cell_type": "markdown",
   "metadata": {},
   "source": [
    "Definimos qué umbral de score se corresponde con una cantidad determinada de clones."
   ]
  },
  {
   "cell_type": "code",
   "execution_count": null,
   "metadata": {},
   "outputs": [],
   "source": [
    "def score_umbral(df_scores, n_clones):\n",
    "    \"\"\"Return score umbral que se corresponde con n_clones\"\"\"\n",
    "    df_tmp = df_scores.sort_values('score', ascending=False)\n",
    "    scores_tmp = df_tmp['score'].head(n_clones).tolist()\n",
    "    return scores_tmp[-1]"
   ]
  },
  {
   "cell_type": "code",
   "execution_count": null,
   "metadata": {},
   "outputs": [],
   "source": [
    "n_clones = 25_000\n",
    "print(f'{n_clones} clones: score = {score_umbral(df_scores, n_clones)}'')"
   ]
  },
  {
   "cell_type": "markdown",
   "metadata": {},
   "source": [
    "### Distribuciones comparadas\n",
    "\n",
    "Visualizamos las distribuciones de los atributos entre semilla-clones-resto, para una cantidad de clones determinada.\n",
    "En este caso lo hacemos para los atributos más importantesen los clasificadores bagging."
   ]
  },
  {
   "cell_type": "code",
   "execution_count": null,
   "metadata": {},
   "outputs": [],
   "source": [
    "n_clones = 25_000\n",
    "top_features = df_importance['feature'].head(6).tolist()\n",
    "print(top_features)"
   ]
  },
  {
   "cell_type": "markdown",
   "metadata": {},
   "source": [
    "#### Estadisticos"
   ]
  },
  {
   "cell_type": "code",
   "execution_count": null,
   "metadata": {},
   "outputs": [],
   "source": [
    "def long_data(X_poblacion, X_seed, df_scores, n_clones, feature_name):\n",
    "    \"\"\"\n",
    "    Return long data with variable, value and group segun n_clones\n",
    "    \"\"\"\n",
    "    df_poblacion = pd.concat([X_poblacion, df_scores['score']], axis=1)\n",
    "    df_poblacion.sort_values('score', ascending=False, inplace=True)\n",
    "    df_poblacion['n'] = np.arange(1, df_poblacion.shape[0]+1)\n",
    "    df_poblacion['grupo'] = np.where(df_poblacion['n'] <= n_clones, 'clones', 'resto')\n",
    "    df_seed = X_seed\n",
    "    df_seed['score'] = np.nan\n",
    "    df_seed['grupo'] = 'semilla'\n",
    "    df_tmp = pd.concat([df_poblacion, df_seed])\n",
    "    df_tmp = df_tmp[['grupo'] + feature_names]\n",
    "    df_long = pd.melt(df_tmp, id_vars='grupo', var_name='variable', value_name='value')\n",
    "    df_long['grupo'] = pd.Categorical(df_long['grupo'], ['semilla'], ['clones'], ['resto'])\n",
    "    return df_long"
   ]
  },
  {
   "cell_type": "code",
   "execution_count": null,
   "metadata": {},
   "outputs": [],
   "source": [
    "df_tmp = long_data(X_poblacion, X_seed, df_scores, n_clones, top_features)\n",
    "df_tmp.groupby(['variable', 'grupo']).describe()"
   ]
  },
  {
   "cell_type": "markdown",
   "metadata": {},
   "source": [
    "#### Densidades"
   ]
  },
  {
   "cell_type": "code",
   "execution_count": null,
   "metadata": {},
   "outputs": [],
   "source": [
    "def densities_lookalike(X_poblacion, X_seed, df_scores, n_clones, feature_name):\n",
    "    \"\"\"\n",
    "    Densidades por variables segun grupo para n_clones definido\n",
    "    \"\"\"\n",
    "    df_plt = long_data(X_poblacion, X_seed, df_scores, n_clones, feature_name)\n",
    "    g = sns.FacetGrid(df_plt, col='variable', hue='grupo'\n",
    "                     ,hue_order=['semilla', 'clones', 'resto']\n",
    "                     ,sharex=False, sharey=Flase, col_wrap=3)\n",
    "    g.map(sns.distplot, 'value')\n",
    "    g.add_legend()\n",
    "    return g"
   ]
  },
  {
   "cell_type": "code",
   "execution_count": null,
   "metadata": {},
   "outputs": [],
   "source": [
    "densities_lookalike(X_poblacion, X_seed, df_scores, n_clones, top_features)"
   ]
  },
  {
   "cell_type": "markdown",
   "metadata": {},
   "source": [
    "#### Boxplots"
   ]
  },
  {
   "cell_type": "code",
   "execution_count": null,
   "metadata": {},
   "outputs": [],
   "source": [
    "def boxplots_lookalike(X_poblacion, X_seed, df_scores, n_clones, feature_name):\n",
    "    \"\"\"\n",
    "    Boxplots por variables segun grupo para n_clones definido\n",
    "    \"\"\"\n",
    "    df_plt = long_data(X_poblacion, X_seed, df_scores, n_clones, feature_name)\n",
    "    g = sns.catplot(x='grupo', y='value', col='variable'\n",
    "                     ,data=df_plt, kind='box', showfliers=False\n",
    "                     ,sharey=Flase, col_wrap=3)\n",
    "    g.add_legend()\n",
    "    return g"
   ]
  },
  {
   "cell_type": "code",
   "execution_count": null,
   "metadata": {},
   "outputs": [],
   "source": [
    "boxplots_lookalike(X_poblacion, X_seed, df_scores, n_clones, top_features)"
   ]
  }
 ],
 "metadata": {
  "kernelspec": {
   "display_name": "Python 3",
   "language": "python",
   "name": "python3"
  },
  "language_info": {
   "codemirror_mode": {
    "name": "ipython",
    "version": 3
   },
   "file_extension": ".py",
   "mimetype": "text/x-python",
   "name": "python",
   "nbconvert_exporter": "python",
   "pygments_lexer": "ipython3",
   "version": "3.8.2"
  }
 },
 "nbformat": 4,
 "nbformat_minor": 4
}
