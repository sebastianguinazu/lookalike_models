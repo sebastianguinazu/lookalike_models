{
 "cells": [
  {
   "cell_type": "markdown",
   "metadata": {
    "id": "cCCFiBnu3IeX"
   },
   "source": [
    "Parámetros:\n",
    "\n",
    "\n",
    "*   Data inputs\n",
    "*   Columnas IDs\n",
    "\n"
   ]
  },
  {
   "cell_type": "code",
   "execution_count": 23,
   "metadata": {
    "id": "gDZacga63HTg"
   },
   "outputs": [],
   "source": [
    "file = \"C:/Users/Sebastian/Desktop/LOOKALIKE/lookalike_models/notebooks/data/endei_clu.csv\"\n",
    "id_cols = []"
   ]
  },
  {
   "cell_type": "code",
   "execution_count": 24,
   "metadata": {
    "id": "zkpsuU3U3RpO"
   },
   "outputs": [],
   "source": [
    "import numpy as np\n",
    "import pandas as pd\n",
    "import datetime\n",
    "import os\n",
    "import sys\n",
    "import lkmodels"
   ]
  },
  {
   "cell_type": "markdown",
   "metadata": {
    "id": "_P3e344O3YUG"
   },
   "source": [
    "#### Import data"
   ]
  },
  {
   "cell_type": "code",
   "execution_count": 25,
   "metadata": {
    "id": "7UqkZfOl3Zi9"
   },
   "outputs": [
    {
     "name": "stdout",
     "output_type": "stream",
     "text": [
      "START --- 2023-03-12 19:19:33.018655\n"
     ]
    },
    {
     "data": {
      "text/html": [
       "<div>\n",
       "<style scoped>\n",
       "    .dataframe tbody tr th:only-of-type {\n",
       "        vertical-align: middle;\n",
       "    }\n",
       "\n",
       "    .dataframe tbody tr th {\n",
       "        vertical-align: top;\n",
       "    }\n",
       "\n",
       "    .dataframe thead th {\n",
       "        text-align: right;\n",
       "    }\n",
       "</style>\n",
       "<table border=\"1\" class=\"dataframe\">\n",
       "  <thead>\n",
       "    <tr style=\"text-align: right;\">\n",
       "      <th></th>\n",
       "      <th>cluster</th>\n",
       "      <th>vd</th>\n",
       "      <th>capac_prod</th>\n",
       "      <th>prac_empre</th>\n",
       "      <th>abs_ih</th>\n",
       "      <th>prop_calif</th>\n",
       "      <th>gest_rrhh</th>\n",
       "      <th>orga_tec</th>\n",
       "      <th>prop_capac</th>\n",
       "      <th>vinc_inst</th>\n",
       "      <th>...</th>\n",
       "      <th>rama_act</th>\n",
       "      <th>exporta</th>\n",
       "      <th>innovo</th>\n",
       "      <th>ing</th>\n",
       "      <th>dai</th>\n",
       "      <th>did</th>\n",
       "      <th>empleo</th>\n",
       "      <th>tc.va.tr</th>\n",
       "      <th>tc.empleo</th>\n",
       "      <th>tc.ventas</th>\n",
       "    </tr>\n",
       "  </thead>\n",
       "  <tbody>\n",
       "    <tr>\n",
       "      <th>0</th>\n",
       "      <td>4</td>\n",
       "      <td>False</td>\n",
       "      <td>3</td>\n",
       "      <td>3</td>\n",
       "      <td>2</td>\n",
       "      <td>12.551345</td>\n",
       "      <td>3</td>\n",
       "      <td>3</td>\n",
       "      <td>85.333333</td>\n",
       "      <td>2</td>\n",
       "      <td>...</td>\n",
       "      <td>Alimentos</td>\n",
       "      <td>0</td>\n",
       "      <td>1</td>\n",
       "      <td>2.944571e+08</td>\n",
       "      <td>1</td>\n",
       "      <td>0</td>\n",
       "      <td>NaN</td>\n",
       "      <td>79.016367</td>\n",
       "      <td>NaN</td>\n",
       "      <td>38.49489</td>\n",
       "    </tr>\n",
       "    <tr>\n",
       "      <th>1</th>\n",
       "      <td>4</td>\n",
       "      <td>False</td>\n",
       "      <td>3</td>\n",
       "      <td>3</td>\n",
       "      <td>2</td>\n",
       "      <td>22.258798</td>\n",
       "      <td>3</td>\n",
       "      <td>3</td>\n",
       "      <td>33.333333</td>\n",
       "      <td>3</td>\n",
       "      <td>...</td>\n",
       "      <td>Otras</td>\n",
       "      <td>1</td>\n",
       "      <td>1</td>\n",
       "      <td>2.944571e+08</td>\n",
       "      <td>1</td>\n",
       "      <td>0</td>\n",
       "      <td>NaN</td>\n",
       "      <td>73.804878</td>\n",
       "      <td>NaN</td>\n",
       "      <td>38.49489</td>\n",
       "    </tr>\n",
       "    <tr>\n",
       "      <th>2</th>\n",
       "      <td>1</td>\n",
       "      <td>False</td>\n",
       "      <td>0</td>\n",
       "      <td>0</td>\n",
       "      <td>1</td>\n",
       "      <td>32.752755</td>\n",
       "      <td>3</td>\n",
       "      <td>3</td>\n",
       "      <td>100.000000</td>\n",
       "      <td>0</td>\n",
       "      <td>...</td>\n",
       "      <td>Alimentos</td>\n",
       "      <td>0</td>\n",
       "      <td>0</td>\n",
       "      <td>2.944571e+08</td>\n",
       "      <td>1</td>\n",
       "      <td>0</td>\n",
       "      <td>NaN</td>\n",
       "      <td>26.573228</td>\n",
       "      <td>NaN</td>\n",
       "      <td>38.49489</td>\n",
       "    </tr>\n",
       "    <tr>\n",
       "      <th>3</th>\n",
       "      <td>4</td>\n",
       "      <td>False</td>\n",
       "      <td>3</td>\n",
       "      <td>3</td>\n",
       "      <td>3</td>\n",
       "      <td>26.323385</td>\n",
       "      <td>3</td>\n",
       "      <td>3</td>\n",
       "      <td>36.666667</td>\n",
       "      <td>3</td>\n",
       "      <td>...</td>\n",
       "      <td>Otros minerales no metalicos</td>\n",
       "      <td>1</td>\n",
       "      <td>0</td>\n",
       "      <td>2.944571e+08</td>\n",
       "      <td>1</td>\n",
       "      <td>0</td>\n",
       "      <td>NaN</td>\n",
       "      <td>82.359615</td>\n",
       "      <td>NaN</td>\n",
       "      <td>38.49489</td>\n",
       "    </tr>\n",
       "    <tr>\n",
       "      <th>4</th>\n",
       "      <td>4</td>\n",
       "      <td>True</td>\n",
       "      <td>3</td>\n",
       "      <td>2</td>\n",
       "      <td>3</td>\n",
       "      <td>22.042281</td>\n",
       "      <td>3</td>\n",
       "      <td>3</td>\n",
       "      <td>0.000000</td>\n",
       "      <td>2</td>\n",
       "      <td>...</td>\n",
       "      <td>Frigorificos</td>\n",
       "      <td>1</td>\n",
       "      <td>1</td>\n",
       "      <td>2.944571e+08</td>\n",
       "      <td>1</td>\n",
       "      <td>1</td>\n",
       "      <td>NaN</td>\n",
       "      <td>29.324533</td>\n",
       "      <td>NaN</td>\n",
       "      <td>38.49489</td>\n",
       "    </tr>\n",
       "  </tbody>\n",
       "</table>\n",
       "<p>5 rows × 45 columns</p>\n",
       "</div>"
      ],
      "text/plain": [
       "   cluster     vd  capac_prod  prac_empre  abs_ih  prop_calif  gest_rrhh  \\\n",
       "0        4  False           3           3       2   12.551345          3   \n",
       "1        4  False           3           3       2   22.258798          3   \n",
       "2        1  False           0           0       1   32.752755          3   \n",
       "3        4  False           3           3       3   26.323385          3   \n",
       "4        4   True           3           2       3   22.042281          3   \n",
       "\n",
       "   orga_tec  prop_capac  vinc_inst  ...                      rama_act  \\\n",
       "0         3   85.333333          2  ...                     Alimentos   \n",
       "1         3   33.333333          3  ...                         Otras   \n",
       "2         3  100.000000          0  ...                     Alimentos   \n",
       "3         3   36.666667          3  ...  Otros minerales no metalicos   \n",
       "4         3    0.000000          2  ...                  Frigorificos   \n",
       "\n",
       "   exporta  innovo           ing  dai  did  empleo   tc.va.tr  tc.empleo  \\\n",
       "0        0       1  2.944571e+08    1    0     NaN  79.016367        NaN   \n",
       "1        1       1  2.944571e+08    1    0     NaN  73.804878        NaN   \n",
       "2        0       0  2.944571e+08    1    0     NaN  26.573228        NaN   \n",
       "3        1       0  2.944571e+08    1    0     NaN  82.359615        NaN   \n",
       "4        1       1  2.944571e+08    1    1     NaN  29.324533        NaN   \n",
       "\n",
       "   tc.ventas  \n",
       "0   38.49489  \n",
       "1   38.49489  \n",
       "2   38.49489  \n",
       "3   38.49489  \n",
       "4   38.49489  \n",
       "\n",
       "[5 rows x 45 columns]"
      ]
     },
     "execution_count": 25,
     "metadata": {},
     "output_type": "execute_result"
    }
   ],
   "source": [
    "print(f'START --- {datetime.datetime.now()}')\n",
    "\n",
    "df = pd.read_csv(file)\n",
    "df.head()"
   ]
  },
  {
   "cell_type": "code",
   "execution_count": 26,
   "metadata": {},
   "outputs": [],
   "source": [
    "df_seed = df[df.vd == True].drop('vd', axis=1)\n",
    "df_poblacion = df[df.vd == False].drop('vd', axis=1)"
   ]
  },
  {
   "cell_type": "markdown",
   "metadata": {
    "id": "nRHvCZl53xko"
   },
   "source": [
    "#### Explore\n"
   ]
  },
  {
   "cell_type": "code",
   "execution_count": 27,
   "metadata": {
    "id": "1J8UvamY3wX_"
   },
   "outputs": [
    {
     "name": "stdout",
     "output_type": "stream",
     "text": [
      "Index(['cluster', 'capac_prod', 'prac_empre', 'abs_ih', 'prop_calif',\n",
      "       'gest_rrhh', 'orga_tec', 'prop_capac', 'vinc_inst', 'd_especinsum',\n",
      "       'd_especproce', 'd_trazabilidad', 'd_problemas', 'd_mejoracont',\n",
      "       'd_diseno', 'd_deptoid', 'd_montcomp', 'd_montec', 'prop_prof',\n",
      "       'prop_tec', 'd_rrhhdto', 'd_perffor', 'd_evaldes', 'd_sistemas',\n",
      "       'd_sapoydec', 'd_softgest', 'capacit_nojer', 'capacit_ger',\n",
      "       'capacit_sup', 'd_vincpub', 'd_vincfir', 'd_vincase', 'tam_mue',\n",
      "       'k_inac', 'rama_act', 'exporta', 'innovo', 'ing', 'dai', 'did',\n",
      "       'empleo', 'tc.va.tr', 'tc.empleo', 'tc.ventas'],\n",
      "      dtype='object')\n"
     ]
    }
   ],
   "source": [
    "print(df_poblacion.columns)"
   ]
  },
  {
   "cell_type": "code",
   "execution_count": 28,
   "metadata": {
    "id": "M2zTzBab379H"
   },
   "outputs": [
    {
     "name": "stdout",
     "output_type": "stream",
     "text": [
      "(627, 44)\n",
      "(3315, 44)\n"
     ]
    }
   ],
   "source": [
    "print(df_seed.shape)\n",
    "print(df_poblacion.shape)"
   ]
  },
  {
   "cell_type": "code",
   "execution_count": 29,
   "metadata": {
    "id": "6jrKvGLQ3_nW"
   },
   "outputs": [
    {
     "name": "stdout",
     "output_type": "stream",
     "text": [
      "set()\n",
      "set()\n"
     ]
    }
   ],
   "source": [
    "print(set(df_seed.columns) - set(df_poblacion.columns))\n",
    "print(set(df_poblacion.columns) - set(df_seed.columns))"
   ]
  },
  {
   "cell_type": "markdown",
   "metadata": {
    "id": "ujYj3qdf4Rhx"
   },
   "source": [
    "Validar que la semilla tenga menos observaciones que la población. Esto es una restricción de la función de bagging por el momento."
   ]
  },
  {
   "cell_type": "code",
   "execution_count": 30,
   "metadata": {
    "id": "0dnGEmiJ4X7y"
   },
   "outputs": [
    {
     "name": "stdout",
     "output_type": "stream",
     "text": [
      "True\n"
     ]
    }
   ],
   "source": [
    "print(df_seed.shape[0] < df_poblacion.shape[0])"
   ]
  },
  {
   "cell_type": "markdown",
   "metadata": {
    "id": "1-80zTa74kK2"
   },
   "source": [
    "#### Transformaciones"
   ]
  },
  {
   "cell_type": "code",
   "execution_count": 31,
   "metadata": {
    "id": "zoJvDLG94llV"
   },
   "outputs": [
    {
     "name": "stderr",
     "output_type": "stream",
     "text": [
      "C:\\Users\\Sebastian\\AppData\\Local\\Temp\\ipykernel_13468\\3856438857.py:3: FutureWarning: Passing a set as an indexer is deprecated and will raise in a future version. Use a list instead.\n",
      "  X_seed = df_seed[common_columns].select_dtypes(['number'])\n",
      "C:\\Users\\Sebastian\\AppData\\Local\\Temp\\ipykernel_13468\\3856438857.py:4: FutureWarning: Passing a set as an indexer is deprecated and will raise in a future version. Use a list instead.\n",
      "  X_poblacion = df_poblacion[common_columns].select_dtypes(['number'])\n"
     ]
    }
   ],
   "source": [
    "common_columns = set(df_seed.columns).intersection(set(df_poblacion.columns))\n",
    "# keep columnas en comun y numericas\n",
    "X_seed = df_seed[common_columns].select_dtypes(['number'])\n",
    "X_poblacion = df_poblacion[common_columns].select_dtypes(['number'])\n",
    "# add ID_VARS si quedaron fuera\n",
    "# if not set(X_seed.columns).intersection(set(ID_COLS)):\n",
    "#   X_seed = pd.contact([df_seed[ID_COLS], X_seed], axis = 1)\n",
    "# if not set(X_seed.columns).intersection(set(ID_COLS)):\n",
    "#   X_seed = pd.contact([df_seed[ID_COLS], X_seed], axis = 1)"
   ]
  },
  {
   "cell_type": "markdown",
   "metadata": {
    "id": "XdJ-qG2i5ttV"
   },
   "source": [
    "#### Save"
   ]
  },
  {
   "cell_type": "code",
   "execution_count": 32,
   "metadata": {
    "id": "umTclA8j5uni"
   },
   "outputs": [],
   "source": [
    "# save\n",
    "if not os.path.exists('data'):\n",
    "  os.makedirs('data')\n",
    "X_seed.to_pickle('data/X_seed.pkl')\n",
    "X_poblacion.to_pickle('data/X_poblacion.pkl')"
   ]
  },
  {
   "cell_type": "code",
   "execution_count": null,
   "metadata": {
    "id": "zQvQcULF6Gio"
   },
   "outputs": [],
   "source": [
    "print(f'END --- {datetime.datetime.now()}')"
   ]
  }
 ],
 "metadata": {
  "colab": {
   "name": "00-read_data.ipynb",
   "provenance": []
  },
  "kernelspec": {
   "display_name": "Python 3 (ipykernel)",
   "language": "python",
   "name": "python3"
  },
  "language_info": {
   "codemirror_mode": {
    "name": "ipython",
    "version": 3
   },
   "file_extension": ".py",
   "mimetype": "text/x-python",
   "name": "python",
   "nbconvert_exporter": "python",
   "pygments_lexer": "ipython3",
   "version": "3.9.13"
  }
 },
 "nbformat": 4,
 "nbformat_minor": 4
}
