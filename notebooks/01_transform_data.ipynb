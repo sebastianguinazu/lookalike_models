{
 "cells": [
  {
   "cell_type": "code",
   "execution_count": 30,
   "metadata": {},
   "outputs": [],
   "source": [
    "ID_COLS = []\n",
    "SEMILLA = 999"
   ]
  },
  {
   "cell_type": "code",
   "execution_count": 31,
   "metadata": {},
   "outputs": [],
   "source": [
    "import numpy as np\n",
    "import pandas as pd\n",
    "import datetime\n",
    "\n",
    "from sklearn.experimental import enable_iterative_imputer\n",
    "from sklearn.impute import IterativeImputer"
   ]
  },
  {
   "cell_type": "markdown",
   "metadata": {},
   "source": [
    "### Read"
   ]
  },
  {
   "cell_type": "code",
   "execution_count": 32,
   "metadata": {},
   "outputs": [
    {
     "name": "stdout",
     "output_type": "stream",
     "text": [
      "START --- 2023-03-13 12:01:51.009788\n"
     ]
    }
   ],
   "source": [
    "print(f'START --- {datetime.datetime.now()}')\n",
    "      \n",
    "X_seed = pd.read_pickle(\"data/X_seed.pkl\")\n",
    "X_poblacion = pd.read_pickle(\"data/X_poblacion.pkl\")"
   ]
  },
  {
   "cell_type": "markdown",
   "metadata": {},
   "source": [
    "### Explore"
   ]
  },
  {
   "cell_type": "code",
   "execution_count": 33,
   "metadata": {},
   "outputs": [
    {
     "data": {
      "text/html": [
       "<div>\n",
       "<style scoped>\n",
       "    .dataframe tbody tr th:only-of-type {\n",
       "        vertical-align: middle;\n",
       "    }\n",
       "\n",
       "    .dataframe tbody tr th {\n",
       "        vertical-align: top;\n",
       "    }\n",
       "\n",
       "    .dataframe thead th {\n",
       "        text-align: right;\n",
       "    }\n",
       "</style>\n",
       "<table border=\"1\" class=\"dataframe\">\n",
       "  <thead>\n",
       "    <tr style=\"text-align: right;\">\n",
       "      <th></th>\n",
       "      <th>did</th>\n",
       "      <th>d_problemas</th>\n",
       "      <th>prop_tec</th>\n",
       "      <th>cluster</th>\n",
       "      <th>d_evaldes</th>\n",
       "      <th>d_sapoydec</th>\n",
       "      <th>prop_capac</th>\n",
       "      <th>dai</th>\n",
       "      <th>d_rrhhdto</th>\n",
       "      <th>prop_calif</th>\n",
       "      <th>...</th>\n",
       "      <th>d_trazabilidad</th>\n",
       "      <th>abs_ih</th>\n",
       "      <th>capac_prod</th>\n",
       "      <th>tc.va.tr</th>\n",
       "      <th>d_deptoid</th>\n",
       "      <th>d_vincpub</th>\n",
       "      <th>d_montcomp</th>\n",
       "      <th>prac_empre</th>\n",
       "      <th>empleo</th>\n",
       "      <th>ing</th>\n",
       "    </tr>\n",
       "  </thead>\n",
       "  <tbody>\n",
       "    <tr>\n",
       "      <th>0</th>\n",
       "      <td>0</td>\n",
       "      <td>1</td>\n",
       "      <td>8.070400</td>\n",
       "      <td>4</td>\n",
       "      <td>1</td>\n",
       "      <td>1</td>\n",
       "      <td>85.333333</td>\n",
       "      <td>1</td>\n",
       "      <td>1</td>\n",
       "      <td>12.551345</td>\n",
       "      <td>...</td>\n",
       "      <td>1</td>\n",
       "      <td>2</td>\n",
       "      <td>3</td>\n",
       "      <td>79.016367</td>\n",
       "      <td>1</td>\n",
       "      <td>1</td>\n",
       "      <td>1</td>\n",
       "      <td>3</td>\n",
       "      <td>0.0</td>\n",
       "      <td>2.944571e+08</td>\n",
       "    </tr>\n",
       "    <tr>\n",
       "      <th>1</th>\n",
       "      <td>0</td>\n",
       "      <td>1</td>\n",
       "      <td>22.257806</td>\n",
       "      <td>4</td>\n",
       "      <td>1</td>\n",
       "      <td>1</td>\n",
       "      <td>33.333333</td>\n",
       "      <td>1</td>\n",
       "      <td>1</td>\n",
       "      <td>22.258798</td>\n",
       "      <td>...</td>\n",
       "      <td>1</td>\n",
       "      <td>2</td>\n",
       "      <td>3</td>\n",
       "      <td>73.804878</td>\n",
       "      <td>0</td>\n",
       "      <td>1</td>\n",
       "      <td>1</td>\n",
       "      <td>3</td>\n",
       "      <td>0.0</td>\n",
       "      <td>2.944571e+08</td>\n",
       "    </tr>\n",
       "    <tr>\n",
       "      <th>2</th>\n",
       "      <td>0</td>\n",
       "      <td>0</td>\n",
       "      <td>34.494490</td>\n",
       "      <td>1</td>\n",
       "      <td>1</td>\n",
       "      <td>1</td>\n",
       "      <td>100.000000</td>\n",
       "      <td>1</td>\n",
       "      <td>1</td>\n",
       "      <td>32.752755</td>\n",
       "      <td>...</td>\n",
       "      <td>0</td>\n",
       "      <td>1</td>\n",
       "      <td>0</td>\n",
       "      <td>26.573228</td>\n",
       "      <td>0</td>\n",
       "      <td>0</td>\n",
       "      <td>1</td>\n",
       "      <td>0</td>\n",
       "      <td>0.0</td>\n",
       "      <td>2.944571e+08</td>\n",
       "    </tr>\n",
       "    <tr>\n",
       "      <th>3</th>\n",
       "      <td>0</td>\n",
       "      <td>1</td>\n",
       "      <td>18.449781</td>\n",
       "      <td>4</td>\n",
       "      <td>1</td>\n",
       "      <td>1</td>\n",
       "      <td>36.666667</td>\n",
       "      <td>1</td>\n",
       "      <td>1</td>\n",
       "      <td>26.323385</td>\n",
       "      <td>...</td>\n",
       "      <td>1</td>\n",
       "      <td>3</td>\n",
       "      <td>3</td>\n",
       "      <td>82.359615</td>\n",
       "      <td>1</td>\n",
       "      <td>1</td>\n",
       "      <td>1</td>\n",
       "      <td>3</td>\n",
       "      <td>0.0</td>\n",
       "      <td>2.944571e+08</td>\n",
       "    </tr>\n",
       "    <tr>\n",
       "      <th>6</th>\n",
       "      <td>0</td>\n",
       "      <td>1</td>\n",
       "      <td>0.111015</td>\n",
       "      <td>4</td>\n",
       "      <td>1</td>\n",
       "      <td>1</td>\n",
       "      <td>100.000000</td>\n",
       "      <td>1</td>\n",
       "      <td>1</td>\n",
       "      <td>9.273754</td>\n",
       "      <td>...</td>\n",
       "      <td>1</td>\n",
       "      <td>3</td>\n",
       "      <td>3</td>\n",
       "      <td>8.078123</td>\n",
       "      <td>1</td>\n",
       "      <td>1</td>\n",
       "      <td>1</td>\n",
       "      <td>3</td>\n",
       "      <td>0.0</td>\n",
       "      <td>2.944571e+08</td>\n",
       "    </tr>\n",
       "  </tbody>\n",
       "</table>\n",
       "<p>5 rows × 42 columns</p>\n",
       "</div>"
      ],
      "text/plain": [
       "   did  d_problemas   prop_tec  cluster  d_evaldes  d_sapoydec  prop_capac  \\\n",
       "0    0            1   8.070400        4          1           1   85.333333   \n",
       "1    0            1  22.257806        4          1           1   33.333333   \n",
       "2    0            0  34.494490        1          1           1  100.000000   \n",
       "3    0            1  18.449781        4          1           1   36.666667   \n",
       "6    0            1   0.111015        4          1           1  100.000000   \n",
       "\n",
       "   dai  d_rrhhdto  prop_calif  ...  d_trazabilidad  abs_ih  capac_prod  \\\n",
       "0    1          1   12.551345  ...               1       2           3   \n",
       "1    1          1   22.258798  ...               1       2           3   \n",
       "2    1          1   32.752755  ...               0       1           0   \n",
       "3    1          1   26.323385  ...               1       3           3   \n",
       "6    1          1    9.273754  ...               1       3           3   \n",
       "\n",
       "    tc.va.tr  d_deptoid  d_vincpub  d_montcomp  prac_empre  empleo  \\\n",
       "0  79.016367          1          1           1           3     0.0   \n",
       "1  73.804878          0          1           1           3     0.0   \n",
       "2  26.573228          0          0           1           0     0.0   \n",
       "3  82.359615          1          1           1           3     0.0   \n",
       "6   8.078123          1          1           1           3     0.0   \n",
       "\n",
       "            ing  \n",
       "0  2.944571e+08  \n",
       "1  2.944571e+08  \n",
       "2  2.944571e+08  \n",
       "3  2.944571e+08  \n",
       "6  2.944571e+08  \n",
       "\n",
       "[5 rows x 42 columns]"
      ]
     },
     "execution_count": 33,
     "metadata": {},
     "output_type": "execute_result"
    }
   ],
   "source": [
    "X_poblacion.head()"
   ]
  },
  {
   "cell_type": "code",
   "execution_count": 34,
   "metadata": {},
   "outputs": [
    {
     "name": "stdout",
     "output_type": "stream",
     "text": [
      "did               0.0\n",
      "d_problemas       0.0\n",
      "prop_tec          0.0\n",
      "cluster           0.0\n",
      "d_evaldes         0.0\n",
      "d_sapoydec        0.0\n",
      "prop_capac        0.0\n",
      "dai               0.0\n",
      "d_rrhhdto         0.0\n",
      "prop_calif        0.0\n",
      "d_perffor         0.0\n",
      "d_especproce      0.0\n",
      "capacit_nojer     0.0\n",
      "gest_rrhh         0.0\n",
      "d_vincase         0.0\n",
      "d_especinsum      0.0\n",
      "orga_tec          0.0\n",
      "d_mejoracont      0.0\n",
      "d_diseno          0.0\n",
      "prop_prof         0.0\n",
      "d_softgest        0.0\n",
      "capacit_sup       0.0\n",
      "tc.empleo         0.0\n",
      "k_inac            0.0\n",
      "tc.ventas         0.0\n",
      "capacit_ger       0.0\n",
      "innovo            0.0\n",
      "d_sistemas        0.0\n",
      "d_montec          0.0\n",
      "d_vincfir         0.0\n",
      "exporta           0.0\n",
      "vinc_inst         0.0\n",
      "d_trazabilidad    0.0\n",
      "abs_ih            0.0\n",
      "capac_prod        0.0\n",
      "tc.va.tr          0.0\n",
      "d_deptoid         0.0\n",
      "d_vincpub         0.0\n",
      "d_montcomp        0.0\n",
      "prac_empre        0.0\n",
      "empleo            0.0\n",
      "ing               0.0\n",
      "dtype: float64\n"
     ]
    }
   ],
   "source": [
    "print(X_poblacion.isnull().mean())"
   ]
  },
  {
   "cell_type": "code",
   "execution_count": 35,
   "metadata": {},
   "outputs": [
    {
     "name": "stdout",
     "output_type": "stream",
     "text": [
      "did               0.0\n",
      "d_problemas       0.0\n",
      "prop_tec          0.0\n",
      "cluster           0.0\n",
      "d_evaldes         0.0\n",
      "d_sapoydec        0.0\n",
      "prop_capac        0.0\n",
      "dai               0.0\n",
      "d_rrhhdto         0.0\n",
      "prop_calif        0.0\n",
      "d_perffor         0.0\n",
      "d_especproce      0.0\n",
      "capacit_nojer     0.0\n",
      "gest_rrhh         0.0\n",
      "d_vincase         0.0\n",
      "d_especinsum      0.0\n",
      "orga_tec          0.0\n",
      "d_mejoracont      0.0\n",
      "d_diseno          0.0\n",
      "prop_prof         0.0\n",
      "d_softgest        0.0\n",
      "capacit_sup       0.0\n",
      "tc.empleo         0.0\n",
      "k_inac            0.0\n",
      "tc.ventas         0.0\n",
      "capacit_ger       0.0\n",
      "innovo            0.0\n",
      "d_sistemas        0.0\n",
      "d_montec          0.0\n",
      "d_vincfir         0.0\n",
      "exporta           0.0\n",
      "vinc_inst         0.0\n",
      "d_trazabilidad    0.0\n",
      "abs_ih            0.0\n",
      "capac_prod        0.0\n",
      "tc.va.tr          0.0\n",
      "d_deptoid         0.0\n",
      "d_vincpub         0.0\n",
      "d_montcomp        0.0\n",
      "prac_empre        0.0\n",
      "empleo            0.0\n",
      "ing               0.0\n",
      "dtype: float64\n"
     ]
    }
   ],
   "source": [
    "print(X_seed.isnull().mean())"
   ]
  },
  {
   "cell_type": "markdown",
   "metadata": {},
   "source": [
    "### Transforma"
   ]
  },
  {
   "cell_type": "code",
   "execution_count": 38,
   "metadata": {},
   "outputs": [],
   "source": [
    "### Imputo Missings\n",
    "\n",
    "### ver\n",
    "### https://scikit-learn.org/stable/modules/generated/sklearn.impute.IterativeImputer.html\n",
    "\n",
    "# cols_to_impute - [c for c in X_poblacion.columns if c not in ID_COLS]\n",
    "\n",
    "# fit_transform y seed por separado\n",
    "# imp = IterativeImputer(max_iter = 20, random_state = SEMILLA)\n",
    "# X_poblacion[cols_to_impute] = imp.fit_transform(\n",
    "#     X_poblacion[cols_to_impute])\n",
    "# X_seed[cols_to_impute] = imp.fit_transform(\n",
    "#     X_seed[cols_to_impute])\n",
    "\n",
    "X_poblacion = X_poblacion.fillna(0)\n",
    "X_seed = X_seed.fillna(0)"
   ]
  },
  {
   "cell_type": "code",
   "execution_count": 39,
   "metadata": {},
   "outputs": [],
   "source": [
    "### Si hace falta tambien reemplazo infinitos \n",
    "X_poblacion.replace([np.inf, -np.inf], 0, inplace=True)\n",
    "X_seed.replace([np.inf, -np.inf], 0, inplace=True)\n"
   ]
  },
  {
   "cell_type": "markdown",
   "metadata": {},
   "source": [
    "### Save"
   ]
  },
  {
   "cell_type": "code",
   "execution_count": 40,
   "metadata": {},
   "outputs": [],
   "source": [
    "# save (overwrite)\n",
    "X_seed.to_pickle('data/X_seed.pkl')\n",
    "X_poblacion.to_pickle('data/X_poblacion.pkl')"
   ]
  },
  {
   "cell_type": "code",
   "execution_count": null,
   "metadata": {},
   "outputs": [],
   "source": [
    "print(f'END --- {datetime.datetime.now()}')"
   ]
  }
 ],
 "metadata": {
  "kernelspec": {
   "display_name": "Python 3 (ipykernel)",
   "language": "python",
   "name": "python3"
  },
  "language_info": {
   "codemirror_mode": {
    "name": "ipython",
    "version": 3
   },
   "file_extension": ".py",
   "mimetype": "text/x-python",
   "name": "python",
   "nbconvert_exporter": "python",
   "pygments_lexer": "ipython3",
   "version": "3.9.13"
  }
 },
 "nbformat": 4,
 "nbformat_minor": 4
}
