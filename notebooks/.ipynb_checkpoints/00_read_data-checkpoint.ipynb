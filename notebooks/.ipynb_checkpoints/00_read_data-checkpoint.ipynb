{
 "cells": [
  {
   "cell_type": "markdown",
   "metadata": {
    "id": "cCCFiBnu3IeX"
   },
   "source": [
    "Parámetros:\n",
    "\n",
    "\n",
    "*   Data inputs\n",
    "*   Columnas IDs\n",
    "\n"
   ]
  },
  {
   "cell_type": "code",
   "execution_count": 1,
   "metadata": {
    "id": "gDZacga63HTg"
   },
   "outputs": [
    {
     "ename": "SyntaxError",
     "evalue": "invalid syntax (<ipython-input-1-1aa922f0a71d>, line 2)",
     "output_type": "error",
     "traceback": [
      "\u001b[1;36m  File \u001b[1;32m\"<ipython-input-1-1aa922f0a71d>\"\u001b[1;36m, line \u001b[1;32m2\u001b[0m\n\u001b[1;33m    file_poblacion =\u001b[0m\n\u001b[1;37m                    ^\u001b[0m\n\u001b[1;31mSyntaxError\u001b[0m\u001b[1;31m:\u001b[0m invalid syntax\n"
     ]
    }
   ],
   "source": [
    "file_seed = \"path\"\n",
    "file_poblacion =\n",
    "\n",
    "id_cols = ['id']"
   ]
  },
  {
   "cell_type": "code",
   "execution_count": 2,
   "metadata": {
    "id": "zkpsuU3U3RpO"
   },
   "outputs": [],
   "source": [
    "import numpy as np\n",
    "import pandas as pd\n",
    "import datetime\n",
    "import os\n",
    "import sys"
   ]
  },
  {
   "cell_type": "markdown",
   "metadata": {
    "id": "_P3e344O3YUG"
   },
   "source": [
    "#### Import data"
   ]
  },
  {
   "cell_type": "code",
   "execution_count": null,
   "metadata": {
    "id": "7UqkZfOl3Zi9"
   },
   "outputs": [],
   "source": [
    "print(f'START --- {datetime.datetime.now()}')\n",
    "\n",
    "df_seed = pd.read_pickle(FILE_SEED)\n",
    "df_poblacion = pd.read_pickle(FILE_POBLACION)"
   ]
  },
  {
   "cell_type": "markdown",
   "metadata": {
    "id": "nRHvCZl53xko"
   },
   "source": [
    "#### Explore\n"
   ]
  },
  {
   "cell_type": "code",
   "execution_count": null,
   "metadata": {
    "id": "1J8UvamY3wX_"
   },
   "outputs": [],
   "source": [
    "print(df_poblacion.columns)"
   ]
  },
  {
   "cell_type": "code",
   "execution_count": null,
   "metadata": {
    "id": "M2zTzBab379H"
   },
   "outputs": [],
   "source": [
    "print(df_seed.shape)\n",
    "print(df_poblacion.shape)"
   ]
  },
  {
   "cell_type": "code",
   "execution_count": null,
   "metadata": {
    "id": "6jrKvGLQ3_nW"
   },
   "outputs": [],
   "source": [
    "print(set(df_seed.columns) - set(df_poblacion.columns))\n",
    "print(set(df_poblacion.columns) - set(df_seed.columns))"
   ]
  },
  {
   "cell_type": "markdown",
   "metadata": {
    "id": "ujYj3qdf4Rhx"
   },
   "source": [
    "Validar que la semilla tenga menos observaciones que la población. Esto es una restricción de la función de bagging por el momento."
   ]
  },
  {
   "cell_type": "code",
   "execution_count": null,
   "metadata": {
    "id": "0dnGEmiJ4X7y"
   },
   "outputs": [],
   "source": [
    "print(df_seed.shape[0] < df_poblacion.shape[0])"
   ]
  },
  {
   "cell_type": "markdown",
   "metadata": {
    "id": "1-80zTa74kK2"
   },
   "source": [
    "#### Transformaciones"
   ]
  },
  {
   "cell_type": "code",
   "execution_count": null,
   "metadata": {
    "id": "zoJvDLG94llV"
   },
   "outputs": [],
   "source": [
    "common_columns = set(df_seed.columns).intersection(set(df_poblacion.columns))\n",
    "# keep columnas en comun y numericas\n",
    "X_seed = df_seed[common_columns].select_dtypes(['number'])\n",
    "X_poblacion = df_poblacion[common_columns].select_dtypes(['number'])\n",
    "# add ID_VARS si quedaron fuera\n",
    "if not set(X_seed.columns).intersection(set(ID_COLS)):\n",
    "  X_seed = pd.contact([df_seed[ID_COLS], X_seed], axis = 1)\n",
    "if not set(X_seed.columns).intersection(set(ID_COLS)):\n",
    "  X_seed = pd.contact([df_seed[ID_COLS], X_seed], axis = 1)"
   ]
  },
  {
   "cell_type": "markdown",
   "metadata": {
    "id": "XdJ-qG2i5ttV"
   },
   "source": [
    "#### Save"
   ]
  },
  {
   "cell_type": "code",
   "execution_count": null,
   "metadata": {
    "id": "umTclA8j5uni"
   },
   "outputs": [],
   "source": [
    "# save\n",
    "if not os.path.exists('data'):\n",
    "  os.makedirs('data')\n",
    "X_seed.to_pickle('data/X_seed.pkl')\n",
    "X_poblacion.to_pickle('data/X_poblacion.pkl')"
   ]
  },
  {
   "cell_type": "code",
   "execution_count": null,
   "metadata": {
    "id": "zQvQcULF6Gio"
   },
   "outputs": [],
   "source": [
    "print(f'END --- {datetime.datetime.now()}')"
   ]
  }
 ],
 "metadata": {
  "colab": {
   "name": "00-read_data.ipynb",
   "provenance": []
  },
  "kernelspec": {
   "display_name": "Python 3 (ipykernel)",
   "language": "python",
   "name": "python3"
  },
  "language_info": {
   "codemirror_mode": {
    "name": "ipython",
    "version": 3
   },
   "file_extension": ".py",
   "mimetype": "text/x-python",
   "name": "python",
   "nbconvert_exporter": "python",
   "pygments_lexer": "ipython3",
   "version": "3.9.13"
  }
 },
 "nbformat": 4,
 "nbformat_minor": 4
}
