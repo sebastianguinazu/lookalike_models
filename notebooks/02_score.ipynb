{
 "cells": [
  {
   "cell_type": "markdown",
   "metadata": {},
   "source": [
    "Este script corre el score lookalike de bagging en toda la poblacion.\n",
    "\n",
    "Devuelve como resultado:\n",
    "- un DataFrame con los scores\n",
    "- un DataFrame con la importancia de variables promedio los clasificadores del bagging"
   ]
  },
  {
   "cell_type": "code",
   "execution_count": null,
   "metadata": {},
   "outputs": [],
   "source": [
    "ID_COLS = ['rut']\n",
    "SEMILLA = 999\n",
    "BAG_ITER = 100"
   ]
  },
  {
   "cell_type": "code",
   "execution_count": null,
   "metadata": {},
   "outputs": [],
   "source": [
    "import sys\n",
    "# importar funcion bagging"
   ]
  },
  {
   "cell_type": "code",
   "execution_count": null,
   "metadata": {},
   "outputs": [],
   "source": [
    "import numpy as np\n",
    "import pandas as pd\n",
    "import datetime\n",
    "\n",
    "from sklearn.tree import DecisionTreeClassifier\n",
    "# from ... import bagged_clf "
   ]
  },
  {
   "cell_type": "markdown",
   "metadata": {},
   "source": [
    "### Data"
   ]
  },
  {
   "cell_type": "code",
   "execution_count": null,
   "metadata": {},
   "outputs": [],
   "source": [
    "print(f'START --- {datetime.datetime.now()}')\n",
    "\n",
    "# read     \n",
    "X_seed = pd.read_pickle(\"data/X_seed.pkl\")\n",
    "X_poblacion = read_pickle(\"data/X_poblacion.pkl\")"
   ]
  },
  {
   "cell_type": "markdown",
   "metadata": {},
   "source": [
    "### Run "
   ]
  },
  {
   "cell_type": "code",
   "execution_count": null,
   "metadata": {},
   "outputs": [],
   "source": [
    "### Base Classifier\n",
    "clf = DecisionTreeClassifier\n",
    "clf_param = {'min_sample_leaf': 1, 'random_state': SEMILLA}"
   ]
  },
  {
   "cell_type": "markdown",
   "metadata": {},
   "source": [
    "Corremos el algoritmo. Devuelve una lista de scores y un DataFrame de importancia de variables"
   ]
  },
  {
   "cell_type": "code",
   "execution_count": 1,
   "metadata": {},
   "outputs": [],
   "source": [
    "### Lookalike scores\n",
    "scores, feat_importance = bagged_clf(\n",
    "    X_seed, X_poblacion, Classifier=clf,\n",
    "    random_seed=SEMILLA, T=BAG_ITER, feat_importance=True,\n",
    "    **clf_param)"
   ]
  },
  {
   "cell_type": "markdown",
   "metadata": {},
   "source": [
    "### Save"
   ]
  },
  {
   "cell_type": "code",
   "execution_count": null,
   "metadata": {},
   "outputs": [],
   "source": [
    "# scores\n",
    "df_scores = pd.DataFrame(ids_poblacion)\n",
    "df_scores['score'] = scores\n",
    "df_scores.to_csv('data/df_scores.csv', index=False)\n",
    "# feature importance\n",
    "feat_importance.to_csv('data/df_importance.csv', index=False)"
   ]
  },
  {
   "cell_type": "code",
   "execution_count": null,
   "metadata": {},
   "outputs": [],
   "source": [
    "print(f'START --- {datetime.datetime.now()}')"
   ]
  }
 ],
 "metadata": {
  "kernelspec": {
   "display_name": "Python 3",
   "language": "python",
   "name": "python3"
  },
  "language_info": {
   "codemirror_mode": {
    "name": "ipython",
    "version": 3
   },
   "file_extension": ".py",
   "mimetype": "text/x-python",
   "name": "python",
   "nbconvert_exporter": "python",
   "pygments_lexer": "ipython3",
   "version": "3.8.2"
  }
 },
 "nbformat": 4,
 "nbformat_minor": 4
}
